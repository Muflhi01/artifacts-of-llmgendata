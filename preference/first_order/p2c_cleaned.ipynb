{
 "cells": [
  {
   "cell_type": "code",
   "execution_count": 26,
   "metadata": {},
   "outputs": [
    {
     "name": "stderr",
     "output_type": "stream",
     "text": [
      "[nltk_data] Downloading package averaged_perceptron_tagger to\n",
      "[nltk_data]     /home/minhwa/nltk_data...\n",
      "[nltk_data]   Package averaged_perceptron_tagger is already up-to-\n",
      "[nltk_data]       date!\n"
     ]
    }
   ],
   "source": [
    "import numpy as np\n",
    "import pandas as pd\n",
    "import matplotlib.pyplot as plt\n",
    "from matplotlib.patches import Patch\n",
    "\n",
    "import seaborn as sns\n",
    "import scipy.stats as stats\n",
    "\n",
    "import nltk\n",
    "nltk.download('averaged_perceptron_tagger')\n",
    "import spacy\n",
    "\n",
    "from tqdm import tqdm\n",
    "tqdm.pandas()\n",
    "\n",
    "import warnings\n",
    "warnings.simplefilter(\"ignore\")\n",
    "\n",
    "from nltk.stem import WordNetLemmatizer"
   ]
  },
  {
   "cell_type": "markdown",
   "metadata": {},
   "source": [
    "# Load Dataset for results and plots"
   ]
  },
  {
   "cell_type": "markdown",
   "metadata": {},
   "source": [
    "`p2c` is the cleaned dataset from dynasent2 (or p2c dataset) that were adjusted for our research. "
   ]
  },
  {
   "cell_type": "code",
   "execution_count": 2,
   "metadata": {},
   "outputs": [],
   "source": [
    "p2c = pd.read_csv('dynanset2_pref_df_with_all_semantic.csv')\n",
    "p2c_emotion = p2c[['sent_1', 'sent_2', 'gold_label', 'subjective_pref', 'generative_pref']]"
   ]
  },
  {
   "cell_type": "code",
   "execution_count": 3,
   "metadata": {},
   "outputs": [
    {
     "data": {
      "text/html": [
       "<div>\n",
       "<style scoped>\n",
       "    .dataframe tbody tr th:only-of-type {\n",
       "        vertical-align: middle;\n",
       "    }\n",
       "\n",
       "    .dataframe tbody tr th {\n",
       "        vertical-align: top;\n",
       "    }\n",
       "\n",
       "    .dataframe thead th {\n",
       "        text-align: right;\n",
       "    }\n",
       "</style>\n",
       "<table border=\"1\" class=\"dataframe\">\n",
       "  <thead>\n",
       "    <tr style=\"text-align: right;\">\n",
       "      <th></th>\n",
       "      <th>sent_1</th>\n",
       "      <th>sent_2</th>\n",
       "      <th>gold_label</th>\n",
       "      <th>subjective_pref</th>\n",
       "      <th>generative_pref</th>\n",
       "    </tr>\n",
       "  </thead>\n",
       "  <tbody>\n",
       "    <tr>\n",
       "      <th>0</th>\n",
       "      <td>We enjoyed our first and last meal in Toronto ...</td>\n",
       "      <td>So glad I finally tried this place because if ...</td>\n",
       "      <td>positive</td>\n",
       "      <td>2</td>\n",
       "      <td>0</td>\n",
       "    </tr>\n",
       "    <tr>\n",
       "      <th>1</th>\n",
       "      <td>I tried a new place. I can't wait to return an...</td>\n",
       "      <td>It was cool. She used all organic, vegan and g...</td>\n",
       "      <td>positive</td>\n",
       "      <td>0</td>\n",
       "      <td>1</td>\n",
       "    </tr>\n",
       "    <tr>\n",
       "      <th>2</th>\n",
       "      <td>The buffalo chicken was not good, but very cos...</td>\n",
       "      <td>There was so much stuff from all over that I h...</td>\n",
       "      <td>negative</td>\n",
       "      <td>1</td>\n",
       "      <td>0</td>\n",
       "    </tr>\n",
       "    <tr>\n",
       "      <th>3</th>\n",
       "      <td>The hotel offered complimentary breakfast.</td>\n",
       "      <td>My friends had a full acrylic and the other ha...</td>\n",
       "      <td>positive</td>\n",
       "      <td>0</td>\n",
       "      <td>0</td>\n",
       "    </tr>\n",
       "    <tr>\n",
       "      <th>4</th>\n",
       "      <td>It work very well</td>\n",
       "      <td>The free sourdough was delicious and offered w...</td>\n",
       "      <td>positive</td>\n",
       "      <td>2</td>\n",
       "      <td>1</td>\n",
       "    </tr>\n",
       "  </tbody>\n",
       "</table>\n",
       "</div>"
      ],
      "text/plain": [
       "                                              sent_1  \\\n",
       "0  We enjoyed our first and last meal in Toronto ...   \n",
       "1  I tried a new place. I can't wait to return an...   \n",
       "2  The buffalo chicken was not good, but very cos...   \n",
       "3         The hotel offered complimentary breakfast.   \n",
       "4                                  It work very well   \n",
       "\n",
       "                                              sent_2 gold_label  \\\n",
       "0  So glad I finally tried this place because if ...   positive   \n",
       "1  It was cool. She used all organic, vegan and g...   positive   \n",
       "2  There was so much stuff from all over that I h...   negative   \n",
       "3  My friends had a full acrylic and the other ha...   positive   \n",
       "4  The free sourdough was delicious and offered w...   positive   \n",
       "\n",
       "   subjective_pref  generative_pref  \n",
       "0                2                0  \n",
       "1                0                1  \n",
       "2                1                0  \n",
       "3                0                0  \n",
       "4                2                1  "
      ]
     },
     "execution_count": 3,
     "metadata": {},
     "output_type": "execute_result"
    }
   ],
   "source": [
    "p2c_emotion.head()"
   ]
  },
  {
   "cell_type": "code",
   "execution_count": 4,
   "metadata": {},
   "outputs": [],
   "source": [
    "hm_anger = '../data/hummingbird/tokens_avg/anger_features.tsv'\n",
    "hm_disgust = '../data/hummingbird/tokens_avg/disgust_features.tsv'\n",
    "hm_fear = '../data/hummingbird/tokens_avg/fear_features.tsv'\n",
    "hm_joy = '../data/hummingbird/tokens_avg/joy_features.tsv'\n",
    "hm_offensive = '../data/hummingbird/tokens_avg/offensive_features.tsv'\n",
    "hm_politeness = '../data/hummingbird/tokens_avg/politeness_features.tsv'\n",
    "hm_sadness = '../data/hummingbird/tokens_avg/sadness_features.tsv'\n",
    "hm_sentiment = '../data/hummingbird/tokens_avg/sentiment_features.tsv'"
   ]
  },
  {
   "cell_type": "code",
   "execution_count": 5,
   "metadata": {},
   "outputs": [],
   "source": [
    "anger = pd.read_csv(hm_anger, sep='\\t')[['word', 'avg_attr']]\n",
    "disgust = pd.read_csv(hm_disgust, sep='\\t')[['word', 'avg_attr']]\n",
    "fear = pd.read_csv(hm_fear, sep='\\t')[['word', 'avg_attr']]\n",
    "joy = pd.read_csv(hm_joy, sep='\\t')[['word', 'avg_attr']]\n",
    "offensive = pd.read_csv(hm_offensive, sep='\\t')[['word', 'avg_attr']]\n",
    "politeness = pd.read_csv(hm_politeness, sep='\\t')[['word', 'avg_attr']]\n",
    "sadness = pd.read_csv(hm_sadness, sep='\\t')[['word', 'avg_attr']]\n",
    "sentiment = pd.read_csv(hm_sentiment, sep='\\t')[['word', 'avg_attr']]"
   ]
  },
  {
   "cell_type": "markdown",
   "metadata": {},
   "source": [
    "# Compute Sentiment Lexicon for each sentence pair"
   ]
  },
  {
   "cell_type": "code",
   "execution_count": 6,
   "metadata": {},
   "outputs": [],
   "source": [
    "# Initialize the WordNet lemmatizer\n",
    "lemmatizer = WordNetLemmatizer()\n",
    "nlp = spacy.load(\"en_core_web_sm\")"
   ]
  },
  {
   "cell_type": "code",
   "execution_count": 7,
   "metadata": {},
   "outputs": [],
   "source": [
    "def compute_style_words(style_type_df, sentence):\n",
    "\n",
    "    doc = nlp(sentence)\n",
    "    lemmatized_words = [token.lemma_ if token.pos_ in {\"NOUN\", \"VERB\"} else token.text for token in doc]\n",
    "    match_val_dict = {}\n",
    "\n",
    "    for word in lemmatized_words:\n",
    "        if word in style_type_df['word'].values:\n",
    "            match_val = style_type_df[style_type_df['word'] == word]['avg_attr'].values[0] \n",
    "            match_val_dict[word] = round(match_val, 4)\n",
    "\n",
    "    sorted_dict_desc = dict(sorted(match_val_dict.items(), key=lambda item: item[1], reverse=True))\n",
    "\n",
    "    return sorted_dict_desc"
   ]
  },
  {
   "cell_type": "code",
   "execution_count": 8,
   "metadata": {},
   "outputs": [
    {
     "name": "stderr",
     "output_type": "stream",
     "text": [
      "100%|██████████| 5000/5000 [00:31<00:00, 159.40it/s]\n",
      "100%|██████████| 5000/5000 [00:31<00:00, 159.77it/s]\n"
     ]
    }
   ],
   "source": [
    "p2c_emotion['sent_1_anger_words'] = p2c_emotion.progress_apply(lambda x: compute_style_words(anger, x.sent_1), axis=1)\n",
    "p2c_emotion['sent_2_anger_words'] = p2c_emotion.progress_apply(lambda x: compute_style_words(anger, x.sent_2), axis=1)"
   ]
  },
  {
   "cell_type": "code",
   "execution_count": 9,
   "metadata": {},
   "outputs": [
    {
     "name": "stderr",
     "output_type": "stream",
     "text": [
      "100%|██████████| 5000/5000 [00:30<00:00, 162.84it/s]\n",
      "100%|██████████| 5000/5000 [00:30<00:00, 162.00it/s]\n"
     ]
    }
   ],
   "source": [
    "p2c_emotion['sent_1_disgust_words'] = p2c_emotion.progress_apply(lambda x: compute_style_words(disgust, x.sent_1), axis=1)\n",
    "p2c_emotion['sent_2_disgust_words'] = p2c_emotion.progress_apply(lambda x: compute_style_words(disgust, x.sent_2), axis=1)"
   ]
  },
  {
   "cell_type": "code",
   "execution_count": 10,
   "metadata": {},
   "outputs": [
    {
     "name": "stderr",
     "output_type": "stream",
     "text": [
      "100%|██████████| 5000/5000 [00:30<00:00, 161.88it/s]\n",
      "100%|██████████| 5000/5000 [00:31<00:00, 161.29it/s]\n"
     ]
    }
   ],
   "source": [
    "p2c_emotion['sent_1_fear_words'] = p2c_emotion.progress_apply(lambda x: compute_style_words(fear, x.sent_1), axis=1)\n",
    "p2c_emotion['sent_2_fear_words'] = p2c_emotion.progress_apply(lambda x: compute_style_words(fear, x.sent_2), axis=1)"
   ]
  },
  {
   "cell_type": "code",
   "execution_count": 11,
   "metadata": {},
   "outputs": [
    {
     "name": "stderr",
     "output_type": "stream",
     "text": [
      "100%|██████████| 5000/5000 [00:31<00:00, 159.20it/s]\n",
      "100%|██████████| 5000/5000 [00:31<00:00, 157.30it/s]\n"
     ]
    }
   ],
   "source": [
    "p2c_emotion['sent_1_joy_words'] = p2c_emotion.progress_apply(lambda x: compute_style_words(joy, x.sent_1), axis=1)\n",
    "p2c_emotion['sent_2_joy_words'] = p2c_emotion.progress_apply(lambda x: compute_style_words(joy, x.sent_2), axis=1)"
   ]
  },
  {
   "cell_type": "code",
   "execution_count": 12,
   "metadata": {},
   "outputs": [
    {
     "name": "stderr",
     "output_type": "stream",
     "text": [
      "100%|██████████| 5000/5000 [00:31<00:00, 158.50it/s]\n",
      "100%|██████████| 5000/5000 [00:31<00:00, 157.57it/s]\n"
     ]
    }
   ],
   "source": [
    "p2c_emotion['sent_1_offensive_words'] = p2c_emotion.progress_apply(lambda x: compute_style_words(offensive, x.sent_1), axis=1)\n",
    "p2c_emotion['sent_2_offensive_words'] = p2c_emotion.progress_apply(lambda x: compute_style_words(offensive, x.sent_2), axis=1)"
   ]
  },
  {
   "cell_type": "code",
   "execution_count": 13,
   "metadata": {},
   "outputs": [
    {
     "name": "stderr",
     "output_type": "stream",
     "text": [
      "100%|██████████| 5000/5000 [00:31<00:00, 158.69it/s]\n",
      "100%|██████████| 5000/5000 [00:31<00:00, 157.16it/s]\n"
     ]
    }
   ],
   "source": [
    "p2c_emotion['sent_1_polite_words'] = p2c_emotion.progress_apply(lambda x: compute_style_words(politeness, x.sent_1), axis=1)\n",
    "p2c_emotion['sent_2_polite_words'] = p2c_emotion.progress_apply(lambda x: compute_style_words(politeness, x.sent_2), axis=1)"
   ]
  },
  {
   "cell_type": "code",
   "execution_count": 14,
   "metadata": {},
   "outputs": [
    {
     "name": "stderr",
     "output_type": "stream",
     "text": [
      "100%|██████████| 5000/5000 [00:31<00:00, 158.81it/s]\n",
      "100%|██████████| 5000/5000 [00:31<00:00, 156.85it/s]\n"
     ]
    }
   ],
   "source": [
    "p2c_emotion['sent_1_sad_words'] = p2c_emotion.progress_apply(lambda x: compute_style_words(sadness, x.sent_1), axis=1)\n",
    "p2c_emotion['sent_2_sad_words'] = p2c_emotion.progress_apply(lambda x: compute_style_words(sadness, x.sent_2), axis=1)"
   ]
  },
  {
   "cell_type": "code",
   "execution_count": 15,
   "metadata": {},
   "outputs": [
    {
     "name": "stderr",
     "output_type": "stream",
     "text": [
      "100%|██████████| 5000/5000 [00:31<00:00, 158.35it/s]\n",
      "100%|██████████| 5000/5000 [00:31<00:00, 159.90it/s]\n"
     ]
    }
   ],
   "source": [
    "p2c_emotion['sent_1_sentiment_words'] = p2c_emotion.progress_apply(lambda x: compute_style_words(sentiment, x.sent_1), axis=1)\n",
    "p2c_emotion['sent_2_sentiment_words'] = p2c_emotion.progress_apply(lambda x: compute_style_words(sentiment, x.sent_2), axis=1)"
   ]
  },
  {
   "cell_type": "code",
   "execution_count": 16,
   "metadata": {},
   "outputs": [
    {
     "data": {
      "text/html": [
       "<div>\n",
       "<style scoped>\n",
       "    .dataframe tbody tr th:only-of-type {\n",
       "        vertical-align: middle;\n",
       "    }\n",
       "\n",
       "    .dataframe tbody tr th {\n",
       "        vertical-align: top;\n",
       "    }\n",
       "\n",
       "    .dataframe thead th {\n",
       "        text-align: right;\n",
       "    }\n",
       "</style>\n",
       "<table border=\"1\" class=\"dataframe\">\n",
       "  <thead>\n",
       "    <tr style=\"text-align: right;\">\n",
       "      <th></th>\n",
       "      <th>sent_1</th>\n",
       "      <th>sent_2</th>\n",
       "      <th>gold_label</th>\n",
       "      <th>subjective_pref</th>\n",
       "      <th>generative_pref</th>\n",
       "      <th>sent_1_anger_words</th>\n",
       "      <th>sent_2_anger_words</th>\n",
       "      <th>sent_1_disgust_words</th>\n",
       "      <th>sent_2_disgust_words</th>\n",
       "      <th>sent_1_fear_words</th>\n",
       "      <th>...</th>\n",
       "      <th>sent_1_joy_words</th>\n",
       "      <th>sent_2_joy_words</th>\n",
       "      <th>sent_1_offensive_words</th>\n",
       "      <th>sent_2_offensive_words</th>\n",
       "      <th>sent_1_polite_words</th>\n",
       "      <th>sent_2_polite_words</th>\n",
       "      <th>sent_1_sad_words</th>\n",
       "      <th>sent_2_sad_words</th>\n",
       "      <th>sent_1_sentiment_words</th>\n",
       "      <th>sent_2_sentiment_words</th>\n",
       "    </tr>\n",
       "  </thead>\n",
       "  <tbody>\n",
       "    <tr>\n",
       "      <th>0</th>\n",
       "      <td>We enjoyed our first and last meal in Toronto ...</td>\n",
       "      <td>So glad I finally tried this place because if ...</td>\n",
       "      <td>positive</td>\n",
       "      <td>2</td>\n",
       "      <td>0</td>\n",
       "      <td>{'last': 0.1111, 'better': 0.1111, 'a': 0.043,...</td>\n",
       "      <td>{'my': 0.0536, 'it': 0.0447, 'a': 0.043, 'who'...</td>\n",
       "      <td>{'of': 0.0325, 'to': 0.0308, 'our': 0.0278, 't...</td>\n",
       "      <td>{'rate': 0.3333, 'finally': 0.1666, 'this': 0....</td>\n",
       "      <td>{'first': 0.0417, 'at': 0.0312, 'a': 0.0184, '...</td>\n",
       "      <td>...</td>\n",
       "      <td>{'enjoy': 0.3333, 'better': 0.3333, 'our': 0.0...</td>\n",
       "      <td>{'glad': 0.3333, 'place': 0.1666, 'who': 0.020...</td>\n",
       "      <td>{'our': 0.0556, 'way': 0.0555, 'a': 0.0541, 'o...</td>\n",
       "      <td>{'finally': 0.1666, 'a': 0.0541, 'if': 0.046, ...</td>\n",
       "      <td>{'enjoy': 0.3334, 'book': 0.3333, 'journey': 0...</td>\n",
       "      <td>{'glad': 0.1666, 'if': 0.0115, 'that': 0.0072,...</td>\n",
       "      <td>{'our': 0.0833, 'to': 0.041, 'in': 0.0251, 'of...</td>\n",
       "      <td>{'finally': 0.3334, 'rate': 0.3333, '10': 0.16...</td>\n",
       "      <td>{'enjoy': 0.5, 'better': 0.2222, 'last': 0.111...</td>\n",
       "      <td>{'glad': 0.5, 'try': 0.3333, 'place': 0.0, 'be...</td>\n",
       "    </tr>\n",
       "    <tr>\n",
       "      <th>1</th>\n",
       "      <td>I tried a new place. I can't wait to return an...</td>\n",
       "      <td>It was cool. She used all organic, vegan and g...</td>\n",
       "      <td>positive</td>\n",
       "      <td>0</td>\n",
       "      <td>1</td>\n",
       "      <td>{'wait': 0.0667, 'a': 0.043, 'more': 0.0303, '...</td>\n",
       "      <td>{'use': 0.0833, 'was': 0.0714, 'my': 0.0536, '...</td>\n",
       "      <td>{'wait': 0.0667, 'more': 0.0606, 'to': 0.0308,...</td>\n",
       "      <td>{'make': 0.0555, 'all': 0.046, 'my': 0.0357, '...</td>\n",
       "      <td>{'a': 0.0184, 'to': 0.0171, 'and': 0.0109, 'tr...</td>\n",
       "      <td>...</td>\n",
       "      <td>{'place': 0.1666, 'new': 0.1429, 'more': 0.030...</td>\n",
       "      <td>{'amazing': 1.0, 'feel': 0.25, 'look': 0.1515,...</td>\n",
       "      <td>{'a': 0.0541, 'more': 0.0303, 'to': 0.0154, 'a...</td>\n",
       "      <td>{'cool': 0.3333, 'free': 0.3333, 'amazing': 0....</td>\n",
       "      <td>{'to': 0.0017, 'try': 0.0, 'new': 0.0, 'place'...</td>\n",
       "      <td>{'amazing': 0.6667, 'look': 0.0606, 'my': 0.00...</td>\n",
       "      <td>{'to': 0.041, 'more': 0.0303, 'a': 0.0209, 'an...</td>\n",
       "      <td>{'free': 0.3333, 'feel': 0.1667, 'look': 0.060...</td>\n",
       "      <td>{'try': 0.3333, 'return': 0.3333, 'more': 0.04...</td>\n",
       "      <td>{'amazing': 1.0, 'look': 0.2121, 'which': 0.03...</td>\n",
       "    </tr>\n",
       "    <tr>\n",
       "      <th>2</th>\n",
       "      <td>The buffalo chicken was not good, but very cos...</td>\n",
       "      <td>There was so much stuff from all over that I h...</td>\n",
       "      <td>negative</td>\n",
       "      <td>1</td>\n",
       "      <td>0</td>\n",
       "      <td>{'very': 0.1111, 'was': 0.0714, 'not': 0.0629,...</td>\n",
       "      <td>{'over': 0.1667, 'leave': 0.1667, 'cash': 0.16...</td>\n",
       "      <td>{'chicken': 0.3333, 'very': 0.1667, 'not': 0.1...</td>\n",
       "      <td>{'leave': 0.1667, 'cash': 0.1666, 'find': 0.12...</td>\n",
       "      <td>{'not': 0.044, 'very': 0.0278, 'good': 0.0222,...</td>\n",
       "      <td>...</td>\n",
       "      <td>{'good': 0.6, 'not': 0.0189, 'but': 0.0068, 'c...</td>\n",
       "      <td>{'cash': 0.1666, 'over': 0.0667, 'so': 0.049, ...</td>\n",
       "      <td>{'was': 0.0476, 'not': 0.0377, 'very': 0.0278,...</td>\n",
       "      <td>{'be': 0.0444, 'much': 0.0417, 'have': 0.0385,...</td>\n",
       "      <td>{'good': 0.3333, 'very': 0.1111, 'but': 0.0068...</td>\n",
       "      <td>{'have': 0.0449, 'much': 0.0417, 'for': 0.0135...</td>\n",
       "      <td>{'chicken': 0.3333, 'very': 0.1389, 'not': 0.0...</td>\n",
       "      <td>{'leave': 0.25, 'over': 0.1, 'have': 0.0449, '...</td>\n",
       "      <td>{'good': 0.4445, 'but': -0.0272, 'was': -0.059...</td>\n",
       "      <td>{'more': 0.0454, 'all': 0.0115, 'so': 0.0098, ...</td>\n",
       "    </tr>\n",
       "    <tr>\n",
       "      <th>3</th>\n",
       "      <td>The hotel offered complimentary breakfast.</td>\n",
       "      <td>My friends had a full acrylic and the other ha...</td>\n",
       "      <td>positive</td>\n",
       "      <td>0</td>\n",
       "      <td>0</td>\n",
       "      <td>{}</td>\n",
       "      <td>{'other': 0.1111, 'have': 0.0449, 'good': 0.04...</td>\n",
       "      <td>{}</td>\n",
       "      <td>{'other': 0.1111, 'so': 0.0294, 'the': 0.0293,...</td>\n",
       "      <td>{}</td>\n",
       "      <td>...</td>\n",
       "      <td>{}</td>\n",
       "      <td>{'good': 0.6, 'look': 0.1515, 'so': 0.049, 'a'...</td>\n",
       "      <td>{}</td>\n",
       "      <td>{'other': 0.1111, 'full': 0.0833, 'look': 0.06...</td>\n",
       "      <td>{}</td>\n",
       "      <td>{'friend': 0.3334, 'good': 0.3333, 'look': 0.0...</td>\n",
       "      <td>{}</td>\n",
       "      <td>{'full': 0.25, 'look': 0.0606, 'have': 0.0449,...</td>\n",
       "      <td>{}</td>\n",
       "      <td>{'good': 0.4445, 'look': 0.2121, 'full': 0.083...</td>\n",
       "    </tr>\n",
       "    <tr>\n",
       "      <th>4</th>\n",
       "      <td>It work very well</td>\n",
       "      <td>The free sourdough was delicious and offered w...</td>\n",
       "      <td>positive</td>\n",
       "      <td>2</td>\n",
       "      <td>1</td>\n",
       "      <td>{'very': 0.1111, 'well': 0.0303, 'work': 0.0222}</td>\n",
       "      <td>{'was': 0.0714, 'an': 0.0303, 'of': 0.0224, 'w...</td>\n",
       "      <td>{'very': 0.1667, 'work': 0.0222, 'well': 0.0}</td>\n",
       "      <td>{'of': 0.0325, 'an': 0.0242, 'was': 0.0238, 'a...</td>\n",
       "      <td>{'very': 0.0278, 'work': 0.0222, 'well': 0.0}</td>\n",
       "      <td>...</td>\n",
       "      <td>{'work': 0.0889, 'well': 0.0606, 'very': 0.0}</td>\n",
       "      <td>{'delicious': 0.3333, 'with': 0.0287, 'of': 0....</td>\n",
       "      <td>{'very': 0.0278, 'work': 0.0, 'well': 0.0}</td>\n",
       "      <td>{'free': 0.3333, 'was': 0.0476, 'of': 0.0386, ...</td>\n",
       "      <td>{'very': 0.1111, 'well': 0.0303, 'work': 0.0222}</td>\n",
       "      <td>{'with': 0.023, 'delicious': 0.0, 'and': -0.0,...</td>\n",
       "      <td>{'very': 0.1389, 'work': 0.0444, 'well': 0.0303}</td>\n",
       "      <td>{'free': 0.3333, 'an': 0.0303, 'with': 0.0287,...</td>\n",
       "      <td>{'work': 0.0667, 'well': 0.0, 'very': -0.2222}</td>\n",
       "      <td>{'delicious': 0.3333, 'with': 0.023, 'free': 0...</td>\n",
       "    </tr>\n",
       "  </tbody>\n",
       "</table>\n",
       "<p>5 rows × 21 columns</p>\n",
       "</div>"
      ],
      "text/plain": [
       "                                              sent_1  \\\n",
       "0  We enjoyed our first and last meal in Toronto ...   \n",
       "1  I tried a new place. I can't wait to return an...   \n",
       "2  The buffalo chicken was not good, but very cos...   \n",
       "3         The hotel offered complimentary breakfast.   \n",
       "4                                  It work very well   \n",
       "\n",
       "                                              sent_2 gold_label  \\\n",
       "0  So glad I finally tried this place because if ...   positive   \n",
       "1  It was cool. She used all organic, vegan and g...   positive   \n",
       "2  There was so much stuff from all over that I h...   negative   \n",
       "3  My friends had a full acrylic and the other ha...   positive   \n",
       "4  The free sourdough was delicious and offered w...   positive   \n",
       "\n",
       "   subjective_pref  generative_pref  \\\n",
       "0                2                0   \n",
       "1                0                1   \n",
       "2                1                0   \n",
       "3                0                0   \n",
       "4                2                1   \n",
       "\n",
       "                                  sent_1_anger_words  \\\n",
       "0  {'last': 0.1111, 'better': 0.1111, 'a': 0.043,...   \n",
       "1  {'wait': 0.0667, 'a': 0.043, 'more': 0.0303, '...   \n",
       "2  {'very': 0.1111, 'was': 0.0714, 'not': 0.0629,...   \n",
       "3                                                 {}   \n",
       "4   {'very': 0.1111, 'well': 0.0303, 'work': 0.0222}   \n",
       "\n",
       "                                  sent_2_anger_words  \\\n",
       "0  {'my': 0.0536, 'it': 0.0447, 'a': 0.043, 'who'...   \n",
       "1  {'use': 0.0833, 'was': 0.0714, 'my': 0.0536, '...   \n",
       "2  {'over': 0.1667, 'leave': 0.1667, 'cash': 0.16...   \n",
       "3  {'other': 0.1111, 'have': 0.0449, 'good': 0.04...   \n",
       "4  {'was': 0.0714, 'an': 0.0303, 'of': 0.0224, 'w...   \n",
       "\n",
       "                                sent_1_disgust_words  \\\n",
       "0  {'of': 0.0325, 'to': 0.0308, 'our': 0.0278, 't...   \n",
       "1  {'wait': 0.0667, 'more': 0.0606, 'to': 0.0308,...   \n",
       "2  {'chicken': 0.3333, 'very': 0.1667, 'not': 0.1...   \n",
       "3                                                 {}   \n",
       "4      {'very': 0.1667, 'work': 0.0222, 'well': 0.0}   \n",
       "\n",
       "                                sent_2_disgust_words  \\\n",
       "0  {'rate': 0.3333, 'finally': 0.1666, 'this': 0....   \n",
       "1  {'make': 0.0555, 'all': 0.046, 'my': 0.0357, '...   \n",
       "2  {'leave': 0.1667, 'cash': 0.1666, 'find': 0.12...   \n",
       "3  {'other': 0.1111, 'so': 0.0294, 'the': 0.0293,...   \n",
       "4  {'of': 0.0325, 'an': 0.0242, 'was': 0.0238, 'a...   \n",
       "\n",
       "                                   sent_1_fear_words  ...  \\\n",
       "0  {'first': 0.0417, 'at': 0.0312, 'a': 0.0184, '...  ...   \n",
       "1  {'a': 0.0184, 'to': 0.0171, 'and': 0.0109, 'tr...  ...   \n",
       "2  {'not': 0.044, 'very': 0.0278, 'good': 0.0222,...  ...   \n",
       "3                                                 {}  ...   \n",
       "4      {'very': 0.0278, 'work': 0.0222, 'well': 0.0}  ...   \n",
       "\n",
       "                                    sent_1_joy_words  \\\n",
       "0  {'enjoy': 0.3333, 'better': 0.3333, 'our': 0.0...   \n",
       "1  {'place': 0.1666, 'new': 0.1429, 'more': 0.030...   \n",
       "2  {'good': 0.6, 'not': 0.0189, 'but': 0.0068, 'c...   \n",
       "3                                                 {}   \n",
       "4      {'work': 0.0889, 'well': 0.0606, 'very': 0.0}   \n",
       "\n",
       "                                    sent_2_joy_words  \\\n",
       "0  {'glad': 0.3333, 'place': 0.1666, 'who': 0.020...   \n",
       "1  {'amazing': 1.0, 'feel': 0.25, 'look': 0.1515,...   \n",
       "2  {'cash': 0.1666, 'over': 0.0667, 'so': 0.049, ...   \n",
       "3  {'good': 0.6, 'look': 0.1515, 'so': 0.049, 'a'...   \n",
       "4  {'delicious': 0.3333, 'with': 0.0287, 'of': 0....   \n",
       "\n",
       "                              sent_1_offensive_words  \\\n",
       "0  {'our': 0.0556, 'way': 0.0555, 'a': 0.0541, 'o...   \n",
       "1  {'a': 0.0541, 'more': 0.0303, 'to': 0.0154, 'a...   \n",
       "2  {'was': 0.0476, 'not': 0.0377, 'very': 0.0278,...   \n",
       "3                                                 {}   \n",
       "4         {'very': 0.0278, 'work': 0.0, 'well': 0.0}   \n",
       "\n",
       "                              sent_2_offensive_words  \\\n",
       "0  {'finally': 0.1666, 'a': 0.0541, 'if': 0.046, ...   \n",
       "1  {'cool': 0.3333, 'free': 0.3333, 'amazing': 0....   \n",
       "2  {'be': 0.0444, 'much': 0.0417, 'have': 0.0385,...   \n",
       "3  {'other': 0.1111, 'full': 0.0833, 'look': 0.06...   \n",
       "4  {'free': 0.3333, 'was': 0.0476, 'of': 0.0386, ...   \n",
       "\n",
       "                                 sent_1_polite_words  \\\n",
       "0  {'enjoy': 0.3334, 'book': 0.3333, 'journey': 0...   \n",
       "1  {'to': 0.0017, 'try': 0.0, 'new': 0.0, 'place'...   \n",
       "2  {'good': 0.3333, 'very': 0.1111, 'but': 0.0068...   \n",
       "3                                                 {}   \n",
       "4   {'very': 0.1111, 'well': 0.0303, 'work': 0.0222}   \n",
       "\n",
       "                                 sent_2_polite_words  \\\n",
       "0  {'glad': 0.1666, 'if': 0.0115, 'that': 0.0072,...   \n",
       "1  {'amazing': 0.6667, 'look': 0.0606, 'my': 0.00...   \n",
       "2  {'have': 0.0449, 'much': 0.0417, 'for': 0.0135...   \n",
       "3  {'friend': 0.3334, 'good': 0.3333, 'look': 0.0...   \n",
       "4  {'with': 0.023, 'delicious': 0.0, 'and': -0.0,...   \n",
       "\n",
       "                                    sent_1_sad_words  \\\n",
       "0  {'our': 0.0833, 'to': 0.041, 'in': 0.0251, 'of...   \n",
       "1  {'to': 0.041, 'more': 0.0303, 'a': 0.0209, 'an...   \n",
       "2  {'chicken': 0.3333, 'very': 0.1389, 'not': 0.0...   \n",
       "3                                                 {}   \n",
       "4   {'very': 0.1389, 'work': 0.0444, 'well': 0.0303}   \n",
       "\n",
       "                                    sent_2_sad_words  \\\n",
       "0  {'finally': 0.3334, 'rate': 0.3333, '10': 0.16...   \n",
       "1  {'free': 0.3333, 'feel': 0.1667, 'look': 0.060...   \n",
       "2  {'leave': 0.25, 'over': 0.1, 'have': 0.0449, '...   \n",
       "3  {'full': 0.25, 'look': 0.0606, 'have': 0.0449,...   \n",
       "4  {'free': 0.3333, 'an': 0.0303, 'with': 0.0287,...   \n",
       "\n",
       "                              sent_1_sentiment_words  \\\n",
       "0  {'enjoy': 0.5, 'better': 0.2222, 'last': 0.111...   \n",
       "1  {'try': 0.3333, 'return': 0.3333, 'more': 0.04...   \n",
       "2  {'good': 0.4445, 'but': -0.0272, 'was': -0.059...   \n",
       "3                                                 {}   \n",
       "4     {'work': 0.0667, 'well': 0.0, 'very': -0.2222}   \n",
       "\n",
       "                              sent_2_sentiment_words  \n",
       "0  {'glad': 0.5, 'try': 0.3333, 'place': 0.0, 'be...  \n",
       "1  {'amazing': 1.0, 'look': 0.2121, 'which': 0.03...  \n",
       "2  {'more': 0.0454, 'all': 0.0115, 'so': 0.0098, ...  \n",
       "3  {'good': 0.4445, 'look': 0.2121, 'full': 0.083...  \n",
       "4  {'delicious': 0.3333, 'with': 0.023, 'free': 0...  \n",
       "\n",
       "[5 rows x 21 columns]"
      ]
     },
     "execution_count": 16,
     "metadata": {},
     "output_type": "execute_result"
    }
   ],
   "source": [
    "p2c_emotion.head()"
   ]
  },
  {
   "cell_type": "markdown",
   "metadata": {},
   "source": [
    "# Maximum Important Lexicon Comparison"
   ]
  },
  {
   "cell_type": "markdown",
   "metadata": {},
   "source": [
    "- Positive: joy, politeness, sentiment (positive > 0)\n",
    "- Negative: anger, disgust, fear, offensive, sadness, sentiment (negative < 0)"
   ]
  },
  {
   "cell_type": "code",
   "execution_count": 17,
   "metadata": {},
   "outputs": [],
   "source": [
    "def decide_sentence_with_more(df):\n",
    "\n",
    "    win_sent = []\n",
    "\n",
    "    for i in range(df.shape[0]):\n",
    "\n",
    "        sentiment_label = df.iloc[i]['gold_label']\n",
    "        sent1_win = 0\n",
    "        sent2_win = 0\n",
    "        tie = 0\n",
    "\n",
    "        if sentiment_label == 'positive':\n",
    "\n",
    "            sent1_joy = df.iloc[i]['sent_1_joy_words']\n",
    "            sent2_joy = df.iloc[i]['sent_2_joy_words']\n",
    "\n",
    "            sent1_polite = df.iloc[i]['sent_1_polite_words']\n",
    "            sent1_polite = {key: value for key, value in sent1_polite.items() if value > 0}\n",
    "            sent2_polite = df.iloc[i]['sent_2_polite_words']\n",
    "            sent2_polite = {key: value for key, value in sent2_polite.items() if value > 0}\n",
    "            \n",
    "            sent1_pos = df.iloc[i]['sent_1_sentiment_words']\n",
    "            sent1_pos = {key: value for key, value in sent1_pos.items() if value > 0}\n",
    "            sent2_pos = df.iloc[i]['sent_2_sentiment_words']\n",
    "            sent2_pos = {key: value for key, value in sent2_pos.items() if value > 0}\n",
    "\n",
    "            if next(iter(sent1_joy.values()), 0) > next(iter(sent2_joy.values()), 0):\n",
    "                sent1_win += 1\n",
    "            elif next(iter(sent1_joy.values()), 0) < next(iter(sent2_joy.values()), 0):\n",
    "                sent2_win += 1 \n",
    "            else:\n",
    "                tie += 1\n",
    "\n",
    "            if next(iter(sent1_polite.values()), 0) > next(iter(sent2_polite.values()), 0):\n",
    "                sent1_win += 1\n",
    "            elif next(iter(sent1_polite.values()), 0) < next(iter(sent2_polite.values()), 0):\n",
    "                sent2_win += 1 \n",
    "            else:\n",
    "                tie += 1\n",
    "            \n",
    "            if next(iter(sent1_pos.values()), 0) > next(iter(sent2_pos.values()), 0):\n",
    "                sent1_win += 1\n",
    "            elif next(iter(sent1_pos.values()), 0) < next(iter(sent2_pos.values()), 0):\n",
    "                sent2_win += 1 \n",
    "            else:\n",
    "                tie += 1\n",
    "\n",
    "        elif sentiment_label == 'negative':\n",
    "\n",
    "            sent1_anger = df.iloc[i]['sent_1_anger_words']\n",
    "            sent2_anger = df.iloc[i]['sent_2_anger_words']\n",
    "\n",
    "            sent1_disgust = df.iloc[i]['sent_1_disgust_words']\n",
    "            sent2_disgust = df.iloc[i]['sent_2_disgust_words']\n",
    "\n",
    "            sent1_fear = df.iloc[i]['sent_1_fear_words']\n",
    "            sent2_fear = df.iloc[i]['sent_2_fear_words']\n",
    "\n",
    "            sent1_offend = df.iloc[i]['sent_1_offensive_words']\n",
    "            sent2_offend = df.iloc[i]['sent_2_offensive_words']\n",
    "\n",
    "            sent1_sad = df.iloc[i]['sent_1_sad_words']\n",
    "            sent2_sad = df.iloc[i]['sent_2_sad_words']\n",
    "\n",
    "            sent1_rude = df.iloc[i]['sent_1_polite_words']\n",
    "            sent1_rude = dict(sorted(sent1_rude.items(), key=lambda item: item[1], reverse=False))\n",
    "            sent2_rude = df.iloc[i]['sent_2_polite_words']\n",
    "            sent2_rude = dict(sorted(sent2_rude.items(), key=lambda item: item[1], reverse=False))\n",
    "            \n",
    "            sent1_neg = df.iloc[i]['sent_1_sentiment_words']\n",
    "            sent1_neg = dict(sorted(sent1_neg.items(), key=lambda item: item[1], reverse=False))\n",
    "            sent2_neg = df.iloc[i]['sent_2_sentiment_words']\n",
    "            sent2_neg = dict(sorted(sent2_neg.items(), key=lambda item: item[1], reverse=False))\n",
    "\n",
    "            if next(iter(sent1_anger.values()), 0) > next(iter(sent2_anger.values()), 0):\n",
    "                sent1_win += 1\n",
    "            elif next(iter(sent1_anger.values()), 0) < next(iter(sent2_anger.values()), 0):\n",
    "                sent2_win += 1 \n",
    "            else:\n",
    "                tie += 1\n",
    "\n",
    "            if next(iter(sent1_disgust.values()), 0) > next(iter(sent2_disgust.values()), 0):\n",
    "                sent1_win += 1\n",
    "            elif next(iter(sent1_disgust.values()), 0) < next(iter(sent2_disgust.values()), 0):\n",
    "                sent2_win += 1 \n",
    "            else:\n",
    "                tie += 1\n",
    "\n",
    "            if next(iter(sent1_fear.values()), 0) > next(iter(sent2_fear.values()), 0):\n",
    "                sent1_win += 1\n",
    "            elif next(iter(sent1_fear.values()), 0) < next(iter(sent2_fear.values()), 0):\n",
    "                sent2_win += 1 \n",
    "            else:\n",
    "                tie += 1\n",
    "\n",
    "            if next(iter(sent1_offend.values()), 0) > next(iter(sent2_offend.values()), 0):\n",
    "                sent1_win += 1\n",
    "            elif next(iter(sent1_offend.values()), 0) < next(iter(sent2_offend.values()), 0):\n",
    "                sent2_win += 1 \n",
    "            else:\n",
    "                tie += 1\n",
    "\n",
    "            if next(iter(sent1_sad.values()), 0) > next(iter(sent2_sad.values()), 0):\n",
    "                sent1_win += 1\n",
    "            elif next(iter(sent1_sad.values()), 0) < next(iter(sent2_sad.values()), 0):\n",
    "                sent2_win += 1 \n",
    "            else:\n",
    "                tie += 1\n",
    "            \n",
    "            if abs(next(iter(sent1_rude.values()), 0)) > abs(next(iter(sent2_rude.values()), 0)):\n",
    "                sent1_win += 1\n",
    "            elif abs(next(iter(sent1_rude.values()), 0)) < abs(next(iter(sent2_rude.values()), 0)):\n",
    "                sent2_win += 1 \n",
    "            else:\n",
    "                tie += 1            \n",
    "\n",
    "            if abs(next(iter(sent1_neg.values()), 0)) > abs(next(iter(sent2_neg.values()), 0)):\n",
    "                sent1_win += 1\n",
    "            elif abs(next(iter(sent1_neg.values()), 0)) < abs(next(iter(sent2_neg.values()), 0)):\n",
    "                sent2_win += 1 \n",
    "            else:\n",
    "                tie += 1\n",
    "\n",
    "\n",
    "        win_pref = np.argmax([sent1_win, sent2_win, tie])\n",
    "        win_sent.append(win_pref)\n",
    "\n",
    "    return win_sent\n"
   ]
  },
  {
   "cell_type": "markdown",
   "metadata": {},
   "source": [
    "Only extract data whose sentiment label is positive or negative -> `p2c_emotion_pos_neg`"
   ]
  },
  {
   "cell_type": "code",
   "execution_count": 18,
   "metadata": {},
   "outputs": [],
   "source": [
    "p2c_emotion_pos_neg = p2c_emotion.loc[p2c_emotion.gold_label != 'neutral'].reset_index(drop=True)"
   ]
  },
  {
   "cell_type": "markdown",
   "metadata": {},
   "source": [
    "# Compute Lexicon-based preference for each pair"
   ]
  },
  {
   "cell_type": "code",
   "execution_count": 19,
   "metadata": {},
   "outputs": [],
   "source": [
    "win_sent_lst = decide_sentence_with_more(p2c_emotion_pos_neg)\n",
    "p2c_emotion_pos_neg['win_sent'] = win_sent_lst"
   ]
  },
  {
   "cell_type": "markdown",
   "metadata": {},
   "source": [
    "# Pearson's r correlation (entire dataset)"
   ]
  },
  {
   "cell_type": "markdown",
   "metadata": {},
   "source": [
    "Lexicon ~ Human Pref"
   ]
  },
  {
   "cell_type": "code",
   "execution_count": 20,
   "metadata": {},
   "outputs": [
    {
     "data": {
      "text/plain": [
       "PearsonRResult(statistic=-0.05290411434331863, pvalue=0.002231512699803193)"
      ]
     },
     "execution_count": 20,
     "metadata": {},
     "output_type": "execute_result"
    }
   ],
   "source": [
    "stats.pearsonr(p2c_emotion_pos_neg['win_sent'], p2c_emotion_pos_neg['subjective_pref'])"
   ]
  },
  {
   "cell_type": "markdown",
   "metadata": {},
   "source": [
    "Lexicon ~ GPT-3 Pref"
   ]
  },
  {
   "cell_type": "code",
   "execution_count": 21,
   "metadata": {},
   "outputs": [
    {
     "data": {
      "text/plain": [
       "PearsonRResult(statistic=0.15291961929640743, pvalue=6.450756547752474e-19)"
      ]
     },
     "execution_count": 21,
     "metadata": {},
     "output_type": "execute_result"
    }
   ],
   "source": [
    "stats.pearsonr(p2c_emotion_pos_neg['win_sent'], p2c_emotion_pos_neg['generative_pref'])"
   ]
  },
  {
   "cell_type": "markdown",
   "metadata": {},
   "source": [
    "# Compute Lexicon Importance Difference "
   ]
  },
  {
   "cell_type": "code",
   "execution_count": 22,
   "metadata": {},
   "outputs": [],
   "source": [
    "def compute_lexicon_gap(df):\n",
    "\n",
    "    perception_gap = []\n",
    "\n",
    "    for i in range(df.shape[0]):\n",
    "\n",
    "        sentiment_label = df.iloc[i]['gold_label']\n",
    "        diff_gap = 0\n",
    "\n",
    "        if sentiment_label == 'positive':\n",
    "\n",
    "            sent1_joy = df.iloc[i]['sent_1_joy_words']\n",
    "            sent2_joy = df.iloc[i]['sent_2_joy_words']\n",
    "\n",
    "            sent1_polite = df.iloc[i]['sent_1_polite_words']\n",
    "            sent1_polite = {key: value for key, value in sent1_polite.items() if value > 0}\n",
    "            sent2_polite = df.iloc[i]['sent_2_polite_words']\n",
    "            sent2_polite = {key: value for key, value in sent2_polite.items() if value > 0}\n",
    "            \n",
    "            sent1_pos = df.iloc[i]['sent_1_sentiment_words']\n",
    "            sent1_pos = {key: value for key, value in sent1_pos.items() if value > 0}\n",
    "            sent2_pos = df.iloc[i]['sent_2_sentiment_words']\n",
    "            sent2_pos = {key: value for key, value in sent2_pos.items() if value > 0}\n",
    "\n",
    "        \n",
    "            joy_gap = abs(next(iter(sent1_joy.values()), 0) - next(iter(sent2_joy.values()), 0))\n",
    "            diff_gap += joy_gap\n",
    "\n",
    "            polite_gap = abs(next(iter(sent1_polite.values()), 0) - next(iter(sent2_polite.values()), 0))\n",
    "            diff_gap += polite_gap\n",
    "            \n",
    "            pos_gap = abs(next(iter(sent1_pos.values()), 0) - next(iter(sent2_pos.values()), 0))\n",
    "            diff_gap += pos_gap \n",
    "\n",
    "        elif sentiment_label == 'negative':\n",
    "\n",
    "            sent1_anger = df.iloc[i]['sent_1_anger_words']\n",
    "            sent2_anger = df.iloc[i]['sent_2_anger_words']\n",
    "\n",
    "            sent1_disgust = df.iloc[i]['sent_1_disgust_words']\n",
    "            sent2_disgust = df.iloc[i]['sent_2_disgust_words']\n",
    "\n",
    "            sent1_fear = df.iloc[i]['sent_1_fear_words']\n",
    "            sent2_fear = df.iloc[i]['sent_2_fear_words']\n",
    "\n",
    "            sent1_offend = df.iloc[i]['sent_1_offensive_words']\n",
    "            sent2_offend = df.iloc[i]['sent_2_offensive_words']\n",
    "\n",
    "            sent1_sad = df.iloc[i]['sent_1_sad_words']\n",
    "            sent2_sad = df.iloc[i]['sent_2_sad_words']\n",
    "\n",
    "            sent1_rude = df.iloc[i]['sent_1_polite_words']\n",
    "            sent1_rude = dict(sorted(sent1_rude.items(), key=lambda item: item[1], reverse=False))\n",
    "            sent2_rude = df.iloc[i]['sent_2_polite_words']\n",
    "            sent2_rude = dict(sorted(sent2_rude.items(), key=lambda item: item[1], reverse=False))\n",
    "            \n",
    "            sent1_neg = df.iloc[i]['sent_1_sentiment_words']\n",
    "            sent1_neg = dict(sorted(sent1_neg.items(), key=lambda item: item[1], reverse=False))\n",
    "            sent2_neg = df.iloc[i]['sent_2_sentiment_words']\n",
    "            sent2_neg = dict(sorted(sent2_neg.items(), key=lambda item: item[1], reverse=False))\n",
    "\n",
    "            anger_gap = abs(next(iter(sent1_anger.values()), 0) - next(iter(sent2_anger.values()), 0))\n",
    "            diff_gap += anger_gap\n",
    "\n",
    "            disgust_gap = abs(next(iter(sent1_disgust.values()), 0) - next(iter(sent2_disgust.values()), 0))\n",
    "            diff_gap += disgust_gap\n",
    "\n",
    "            fear_gap = abs(next(iter(sent1_fear.values()), 0) - next(iter(sent2_fear.values()), 0))\n",
    "            diff_gap += fear_gap \n",
    "\n",
    "            offend_gap = abs(next(iter(sent1_offend.values()), 0) - next(iter(sent2_offend.values()), 0))\n",
    "            diff_gap += offend_gap\n",
    "\n",
    "            sad_gap =  abs(next(iter(sent1_sad.values()), 0) - next(iter(sent2_sad.values()), 0))\n",
    "            diff_gap += sad_gap \n",
    "\n",
    "            rude_gap = abs(next(iter(sent1_rude.values()), 0) - next(iter(sent2_rude.values()), 0))\n",
    "            diff_gap += rude_gap \n",
    "   \n",
    "            neg_gap = abs(next(iter(sent1_neg.values()), 0) - next(iter(sent2_neg.values()), 0))\n",
    "            diff_gap += neg_gap \n",
    "\n",
    "        perception_gap.append(diff_gap)\n",
    "\n",
    "    return perception_gap\n"
   ]
  },
  {
   "cell_type": "code",
   "execution_count": 23,
   "metadata": {},
   "outputs": [],
   "source": [
    "score_gap_lst = compute_lexicon_gap(p2c_emotion_pos_neg)\n",
    "p2c_emotion_pos_neg['score_gap'] = score_gap_lst"
   ]
  },
  {
   "cell_type": "markdown",
   "metadata": {},
   "source": [
    "# Sort Data by this difference score in descending order"
   ]
  },
  {
   "cell_type": "code",
   "execution_count": 24,
   "metadata": {},
   "outputs": [],
   "source": [
    "p2c_emotion_pos_neg_sorted = p2c_emotion_pos_neg.sort_values('score_gap', ascending=False)"
   ]
  },
  {
   "cell_type": "markdown",
   "metadata": {},
   "source": [
    "# Figure 15 (a)"
   ]
  },
  {
   "cell_type": "code",
   "execution_count": 27,
   "metadata": {},
   "outputs": [
    {
     "data": {
      "image/png": "[encoded data removed]",
      "text/plain": [
       "<Figure size 1440x720 with 1 Axes>"
      ]
     },
     "metadata": {
      "needs_background": "light"
     },
     "output_type": "display_data"
    }
   ],
   "source": [
    "bin_size = len(p2c_emotion_pos_neg_sorted)//10\n",
    "\n",
    "bin_1 = p2c_emotion_pos_neg_sorted[:bin_size]\n",
    "bin_2= p2c_emotion_pos_neg_sorted[bin_size:2*bin_size]\n",
    "bin_3= p2c_emotion_pos_neg_sorted[2*bin_size:3*bin_size]\n",
    "bin_4= p2c_emotion_pos_neg_sorted[3*bin_size:4*bin_size]\n",
    "bin_5= p2c_emotion_pos_neg_sorted[4*bin_size:5*bin_size]\n",
    "bin_6= p2c_emotion_pos_neg_sorted[5*bin_size:6*bin_size]\n",
    "bin_7= p2c_emotion_pos_neg_sorted[6*bin_size:7*bin_size]\n",
    "bin_8= p2c_emotion_pos_neg_sorted[7*bin_size:8*bin_size]\n",
    "bin_9= p2c_emotion_pos_neg_sorted[8*bin_size:9*bin_size]\n",
    "bin_10= p2c_emotion_pos_neg_sorted[9*bin_size:]\n",
    "\n",
    "correlations_machine = []\n",
    "correlations_human= []\n",
    "\n",
    "for i in range(10):\n",
    "    curr_bin = eval(f\"bin_{i+1}\")\n",
    "    corr_h, _ = stats.pearsonr(curr_bin['win_sent'], curr_bin['subjective_pref'])\n",
    "    corr_m, _ = stats.pearsonr(curr_bin['win_sent'], curr_bin['generative_pref'])\n",
    "    correlations_human.append(corr_h)\n",
    "    correlations_machine.append(corr_m)\n",
    "\n",
    "\n",
    "df_match = pd.DataFrame({\n",
    "    'Setup': ['[1-10]', '[10-20]', '[20-30]', '[30-40]', '[40-50]', '[50-60]', '[60-70]', '[70-80]', '[80-90]', '[90-100]'],\n",
    "    'GPT-3': correlations_machine,\n",
    "    'Human': correlations_human\n",
    "})\n",
    "\n",
    "\n",
    "plt.figure(figsize=(20,10))\n",
    "bar_width = 0.35\n",
    "index = range(len(df_match))\n",
    "\n",
    "textures_human = ['/', '', '/', '', '/', '', '/', '', '/', '/'] # computed based on the below code snippet (p-value for each bin)\n",
    "textures_machine = ['/', '/', '/', '', '/', '', '/', '', '', '/']\n",
    "\n",
    "\n",
    "[plt.bar(index[i], df_match['GPT-3'][i], bar_width, color='tab:blue', hatch=textures_machine[i]) for i in range(len(df_match))]\n",
    "[plt.bar([i + bar_width for i in index][j], df_match['Human'][j], bar_width, color='tab:orange', hatch=textures_human[j]) for j in range(len(df_match))]\n",
    "\n",
    "\n",
    "handles = [\n",
    "    Patch(facecolor=\"#1f77b4\", label=\"GPT-3\"),\n",
    "    Patch(facecolor=\"#ff7f0e\", label=\"Human\")\n",
    "]\n",
    "\n",
    "plt.legend(handles=handles, fontsize=40)\n",
    "\n",
    "plt.xlabel('Percentile Group', fontsize=40)\n",
    "plt.ylabel('Pearson Correlation', fontsize=40)\n",
    "# plt.title('Correlation between GPT-3 and Human across Binned Ranges')\n",
    "plt.xticks([i + bar_width / 2 for i in index], df_match['Setup'], fontsize=35, rotation=45)\n",
    "plt.yticks(fontsize=35)\n",
    "# plt.legend(fontsize=40)\n",
    "\n",
    "plt.axis('on')  # Ensures the axis lines and labels are still shown\n",
    "plt.grid(False)  # Removes the grid\n",
    "\n",
    "plt.tight_layout()\n",
    "# plt.savefig('p2c_lexicon_sidebar.pdf', format='pdf', bbox_inches='tight')\n",
    "plt.show()\n"
   ]
  },
  {
   "cell_type": "markdown",
   "metadata": {},
   "source": [
    "(Optional) Compute p-value for each percentile group to get hatches\n",
    "\n",
    "-> Only p-value below 0.05 will have its corresponding bar with hatches."
   ]
  },
  {
   "cell_type": "code",
   "execution_count": 28,
   "metadata": {},
   "outputs": [
    {
     "name": "stdout",
     "output_type": "stream",
     "text": [
      "bin_1: 0.001318911161779782, 1.2287008366509574e-16\n",
      "bin_2: 0.1358767531251922, 2.6355218459314726e-09\n",
      "bin_3: 0.00468284052951793, 0.001212833466645397\n",
      "bin_4: 0.8960497105515174, 0.12432946125480256\n",
      "bin_5: 0.0039509057334561806, 0.04639205138939891\n",
      "bin_6: 0.26930409352857737, 0.06899307846818391\n",
      "bin_7: 0.04725690447616736, 0.0002552173832641958\n",
      "bin_8: 0.3828930891264084, 0.635113507420738\n",
      "bin_9: 0.0184476468730696, 0.5122856602921273\n",
      "bin_10: 0.007395007644858132, 0.03350255348990327\n"
     ]
    }
   ],
   "source": [
    "for i in range(10):\n",
    "    curr_bin = eval(f\"bin_{i+1}\")\n",
    "    corr_h, p_h = stats.pearsonr(curr_bin['win_sent'], curr_bin['subjective_pref'])\n",
    "    corr_m, p_m = stats.pearsonr(curr_bin['win_sent'], curr_bin['generative_pref'])\n",
    "    \n",
    "    print(f'bin_{i+1}: {p_h}, {p_m}')"
   ]
  },
  {
   "cell_type": "code",
   "execution_count": null,
   "metadata": {},
   "outputs": [],
   "source": []
  }
 ],
 "metadata": {
  "kernelspec": {
   "display_name": "people_llm",
   "language": "python",
   "name": "python3"
  },
  "language_info": {
   "codemirror_mode": {
    "name": "ipython",
    "version": 3
   },
   "file_extension": ".py",
   "mimetype": "text/x-python",
   "name": "python",
   "nbconvert_exporter": "python",
   "pygments_lexer": "ipython3",
   "version": "3.8.16"
  }
 },
 "nbformat": 4,
 "nbformat_minor": 2
}
